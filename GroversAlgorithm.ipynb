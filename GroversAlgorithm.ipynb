{
 "cells": [
  {
   "cell_type": "code",
   "execution_count": 2,
   "id": "228ad084-047a-4bcf-9993-24c6c02e3da5",
   "metadata": {
    "tags": []
   },
   "outputs": [],
   "source": [
    "from qiskit import Aer, execute\n",
    "from qiskit.quantum_info import Operator\n",
    "from qiskit import QuantumCircuit\n",
    "import numpy as np\n",
    "import matplotlib as mpl\n",
    "from qiskit.visualization import plot_histogram\n",
    "import random"
   ]
  },
  {
   "cell_type": "code",
   "execution_count": 3,
   "id": "0cb40535",
   "metadata": {},
   "outputs": [],
   "source": [
    "# GLOBAL VARIABLES\n",
    "max_bits = 8  # WARNING, VERY SLOW IF MORE THAN 8. Max number of bits the password can have (int would be 2^n, n is max_bits) (eg. 9 bits, password can be int from 0 to 512)\n",
    "max_qubits = max_bits + 2  # 2 bits added for salting in hash, so max_bits + 2!"
   ]
  },
  {
   "cell_type": "code",
   "execution_count": 4,
   "id": "3b2e5e82-f6b9-44bb-b802-e0c75665e8e4",
   "metadata": {
    "tags": []
   },
   "outputs": [
    {
     "name": "stdout",
     "output_type": "stream",
     "text": [
      "Password int:  40\n",
      "Password bits:  00101000\n",
      "Hash int:  520\n",
      "Hash bits:  1000001000\n"
     ]
    }
   ],
   "source": [
    "# hash algorithm in classical. Flips all even bits in the password to create hash, and adds 2 salt (random) bits at end (input must be int)\n",
    "def hash_algorithmClassic(passwordInt):\n",
    "    \n",
    "    # gets password into \n",
    "    passwordBits = format(passwordInt, \"0\"+str(max_bits)+\"b\")       # Gives password in binary with length of max_bits\n",
    "    \n",
    "    print(\"Password int: \", passwordInt)\n",
    "    print(\"Password bits: \", passwordBits)\n",
    "    \n",
    "    # divides string into array to perform iteration\n",
    "    arrayBits = [int(d) for d in str(passwordBits)]\n",
    "    \n",
    "    # iterate over array of bit values and swaps all bits in even position\n",
    "    for i in range(len(arrayBits)):\n",
    "        if i%2 == 0:\n",
    "            arrayBits[i] = int(arrayBits[i])^(1)    # BIT FLIP OPERATOR\n",
    "    \n",
    "    \n",
    "    # joins array\n",
    "    hashBits = ''.join(str(e) for e in arrayBits)\n",
    "\n",
    "\n",
    "    # creates 2 random bits and adds them to end of hashBits\n",
    "    saltBits = format(random.getrandbits(2), \"02b\")\n",
    "    hashBits = hashBits + saltBits\n",
    "    \n",
    "    print(\"Hash int: \", int(hashBits,2))\n",
    "    print(\"Hash bits: \", hashBits)\n",
    "\n",
    "hash_algorithmClassic(40)"
   ]
  },
  {
   "cell_type": "code",
   "execution_count": 5,
   "id": "c4a8f799",
   "metadata": {},
   "outputs": [],
   "source": [
    "# Algorithm will flip every qubit in an odd position (instead of even, done in the classical hash algorithm), starting at 1. E.g: 1000 will become 1101\n",
    "def hash_algorithmQuantum(n):\n",
    "    \n",
    "    # create a quantum circuit on n qubits\n",
    "    qc = QuantumCircuit(n)\n",
    "    \n",
    "    # apply algorithm\n",
    "    for i in range(n):\n",
    "        if i%2 == 1:\n",
    "            qc.x(i)\n",
    "    \n",
    "    return qc"
   ]
  },
  {
   "cell_type": "code",
   "execution_count": 6,
   "id": "85c0e83a",
   "metadata": {},
   "outputs": [],
   "source": [
    "# ADAPTED FROM PUBLIC ALGORITHM\n",
    "def phase_oracle(n, indices_to_mark, name = 'Oracle'):\n",
    "    \n",
    "    # create a quantum circuit on n qubits\n",
    "    qc = QuantumCircuit(n, name=name)\n",
    "    \n",
    "    # apply the hash function to all values   # PERSONAL WORK\n",
    "    qc.append(hash_algorithmQuantum(n), range(n))\n",
    "    # qc.x(range(n))\n",
    "    \n",
    "    # create the identity matrix on n qubits\n",
    "    oracle_matrix = np.identity(2**n)\n",
    "    # add the -1 phase to marked elements\n",
    "    for index_to_mark in indices_to_mark:\n",
    "        oracle_matrix[index_to_mark, index_to_mark] = -1\n",
    "\n",
    "        \n",
    "    # convert your matrix (called oracle_matrix) into an operator, and add it to the quantum circuit\n",
    "    qc.unitary(Operator(oracle_matrix), range(n))\n",
    "    \n",
    "    return qc"
   ]
  },
  {
   "cell_type": "code",
   "execution_count": 7,
   "id": "694c0a76",
   "metadata": {},
   "outputs": [],
   "source": [
    "# PUBLIC ALGORITHM\n",
    "def diffuser(n):\n",
    "    \n",
    "    # create a quantum circuit on n qubits\n",
    "    qc = QuantumCircuit(n, name='Diffuser')\n",
    "    \n",
    "    # apply hadamard gates to all qubits\n",
    "    qc.h(range(n))\n",
    "    # call the phase oracle applied to the zero state\n",
    "    qc.append(phase_oracle(n, [0]), range(n))\n",
    "    # apply hadamard gates to all qubits\n",
    "    qc.h(range(n))\n",
    "    \n",
    "    return qc"
   ]
  },
  {
   "cell_type": "code",
   "execution_count": 8,
   "id": "5e34f811-acf6-4879-ba6f-f01429d47232",
   "metadata": {
    "tags": []
   },
   "outputs": [],
   "source": [
    "# PUBLIC ALGORITHM  \n",
    "# Grover's algorithm. Input must be the hash of the password in bits\n",
    "def Grover(n, indices_of_marked_elements):\n",
    "    \n",
    "    # Create a quantum circuit on n qubits\n",
    "    qc = QuantumCircuit(n, n)\n",
    "    \n",
    "    # Determine\n",
    "    r = int(np.floor(np.pi/4*np.sqrt(2**n/len(indices_of_marked_elements))))\n",
    "    print(f'{n} qubits, basis states {indices_of_marked_elements} marked, {r} rounds')\n",
    "    \n",
    "    # step 1: apply Hadamard gates on all qubits\n",
    "    qc.h(range(n))\n",
    "    \n",
    "    # step 2: apply r rounds of the phase oracle and the diffuser\n",
    "    for _ in range(r):\n",
    "        qc.append(phase_oracle(n, indices_of_marked_elements), range(n))\n",
    "        qc.append(diffuser(n), range(n))\n",
    "        \n",
    "    # step 3: measure all qubits\n",
    "    qc.measure(range(n), range(n))\n",
    "  \n",
    "    return qc\n"
   ]
  },
  {
   "cell_type": "code",
   "execution_count": 9,
   "id": "66dcf44f",
   "metadata": {},
   "outputs": [],
   "source": [
    "# Sets up and runs the simulator to get counts, which is to be displayed as a histogram\n",
    "def simulateCountsCircuit(circuit):\n",
    "\n",
    "    simulator = Aer.get_backend('qasm_simulator')\n",
    "    counts = execute(mycircuit, backend=simulator, shots=500).result().get_counts(mycircuit)\n",
    "\n",
    "    # Removes counts that have less than 10 items (are reduntant and make a messy / hard to read graph)\n",
    "    counts = {k:v for k, v in counts.items() if v > 10}\n",
    "    print(counts)\n",
    "\n",
    "    # Swaps key values from binary to integer\n",
    "    # Iteration inspiration from https://stackoverflow.com/questions/45877614/how-to-change-all-the-dictionary-keys-in-a-for-loop-with-d-items \n",
    "    kv = list(counts.items())\n",
    "    counts.clear()\n",
    "\n",
    "    for k, v in kv:\n",
    "        new_key = int(k,2)  # Swaps key from binary to int\n",
    "        counts[new_key] = v\n",
    "\n",
    "    return counts"
   ]
  },
  {
   "cell_type": "code",
   "execution_count": 19,
   "id": "b50f4bab",
   "metadata": {},
   "outputs": [],
   "source": [
    "# Decodes counts by: finding the hash in counts, and fixing the password format (the hash and password should be the most common counts)\n",
    "def decodeCounts(counts, hash):\n",
    "    \n",
    "    # Gets the max values of counts, which are the hash and password\n",
    "    maxValue = sorted(counts, key=lambda k: counts[k], reverse=True)[0]\n",
    "    secondMaxValue = sorted(counts, key=lambda k: counts[k], reverse=True)[1]\n",
    "\n",
    "    \n",
    "    # print(\"Max value: \", maxValue)\n",
    "    # print(\"Second max value: \", secondMaxValue)\n",
    "\n",
    "    password = -1\n",
    "\n",
    "    # If the highest value is the hash, then the second highest value is the password\n",
    "    if(maxValue == hash):  \n",
    "        print(\"Grover's algorithm found hash!\")\n",
    "        password = secondMaxValue\n",
    "\n",
    "    elif(secondMaxValue == hash):\n",
    "        print(\"Grover's algorithm found hash!\")\n",
    "        password = maxValue\n",
    "\n",
    "    else:\n",
    "        print(\"Grover's algorithm did not work...\")\n",
    "        return\n",
    "\n",
    "\n",
    "    passwordBit = format(password, \"0\"+str(max_qubits)+\"b\")       # Gives password in binary with length of max_bits\n",
    "    passwordBitFixed = passwordBit[0:max_qubits-2]  # Removes the salt bits at the end\n",
    "    passwordFixed = int(passwordBitFixed,2)  # Converts the binary to int\n",
    "\n",
    "    print(\"GROVER'S ALGORITHM FOUND THIS PASSWORD: \", passwordFixed)\n"
   ]
  },
  {
   "cell_type": "code",
   "execution_count": 20,
   "id": "413688d7",
   "metadata": {},
   "outputs": [
    {
     "name": "stdout",
     "output_type": "stream",
     "text": [
      "Password int:  100\n",
      "Password bits:  01100100\n",
      "Hash int:  825\n",
      "Hash bits:  1100111001\n"
     ]
    }
   ],
   "source": [
    "hash_algorithmClassic(100)"
   ]
  },
  {
   "cell_type": "code",
   "execution_count": 13,
   "id": "a4b2a4e5",
   "metadata": {},
   "outputs": [
    {
     "name": "stdout",
     "output_type": "stream",
     "text": [
      "10 qubits, basis states [825] marked, 25 rounds\n",
      "{'0110010011': 120, '1100111001': 112}\n",
      "{403: 120, 825: 112}\n"
     ]
    },
    {
     "data": {
      "image/png": "[encoded data removed]",
      "text/plain": [
       "<Figure size 700x500 with 1 Axes>"
      ]
     },
     "execution_count": 13,
     "metadata": {},
     "output_type": "execute_result"
    }
   ],
   "source": [
    "# THIS TAKES AROUND A MINUTE TO RUN!\n",
    "\n",
    "mycircuit = Grover(max_qubits, [825])\n",
    "counts = simulateCountsCircuit(mycircuit)\n",
    "print(counts)\n",
    "plot_histogram(counts)      # This gives a solution that is almost correct. It finds the hash, and it finds the password with 2 extra salt bits at the end\n",
    "\n",
    "\n",
    "\n",
    "# q = hash_algorithmQuantum(10)\n",
    "# q.draw(output = 'mpl')\n",
    "\n",
    "\n",
    "# EXTRA TO SHOWCASE IN WEBSITE / PRESENTATION\n",
    "\n",
    "# FULL ALGORITHM WITH FEW QBITS\n",
    "    # mycircuit = Grover(3, [5])\n",
    "    # mycircuit.draw(output='mpl')\n",
    "\n",
    "# HASH ALGORITHM\n",
    "    # hashAlgorithmExample = hash_algorithm(5)\n",
    "    # hashAlgorithmExample.draw(output='mpl')"
   ]
  },
  {
   "cell_type": "code",
   "execution_count": 21,
   "id": "a0f15c4d",
   "metadata": {},
   "outputs": [
    {
     "name": "stdout",
     "output_type": "stream",
     "text": [
      "Grover's algorithm found hash!\n",
      "GROVER'S ALGORITHM FOUND THIS PASSWORD:  100\n"
     ]
    }
   ],
   "source": [
    "decodeCounts(counts, 825)\n",
    "\n",
    "# Password is 01100100   11"
   ]
  },
  {
   "cell_type": "code",
   "execution_count": null,
   "id": "a9453ff4",
   "metadata": {},
   "outputs": [],
   "source": [
    "# Submission references:\n",
    "# https://www.wired.com/story/bcrypt-password-hashing-25-years/ (IMAGE)"
   ]
  }
 ],
 "metadata": {
  "kernelspec": {
   "display_name": "Python 3 (ipykernel)",
   "language": "python",
   "name": "python3"
  },
  "language_info": {
   "codemirror_mode": {
    "name": "ipython",
    "version": 3
   },
   "file_extension": ".py",
   "mimetype": "text/x-python",
   "name": "python",
   "nbconvert_exporter": "python",
   "pygments_lexer": "ipython3",
   "version": "3.11.4"
  },
  "widgets": {
   "application/vnd.jupyter.widget-state+json": {
    "state": {},
    "version_major": 2,
    "version_minor": 0
   }
  }
 },
 "nbformat": 4,
 "nbformat_minor": 5
}
