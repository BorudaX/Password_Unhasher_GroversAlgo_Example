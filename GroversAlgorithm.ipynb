{
 "cells": [
  {
   "cell_type": "code",
   "execution_count": null,
   "id": "228ad084-047a-4bcf-9993-24c6c02e3da5",
   "metadata": {
    "tags": []
   },
   "outputs": [],
   "source": [
    "from qiskit import Aer, execute\n",
    "from qiskit.quantum_info import Operator\n",
    "from qiskit import QuantumCircuit\n",
    "import numpy as np\n",
    "import matplotlib as mpl\n",
    "from qiskit.visualization import plot_histogram\n",
    "import random"
   ]
  },
  {
   "cell_type": "code",
   "execution_count": null,
   "id": "5959b56f",
   "metadata": {},
   "outputs": [],
   "source": [
    "# Early initialization for compiling, don't change\n",
    "max_bits = -1\n",
    "max_qubits = -1\n",
    "\n",
    "\n",
    "# Below are all the functions used by the algorithm\n",
    "# Run everything until the end, where you'll find the implementation!"
   ]
  },
  {
   "cell_type": "code",
   "execution_count": null,
   "id": "3b2e5e82-f6b9-44bb-b802-e0c75665e8e4",
   "metadata": {
    "tags": []
   },
   "outputs": [],
   "source": [
    "# Hash algorithm in classical. Adds defined amount of random bits (salt) at the start of the inputted password, and then flips all even bits\n",
    "# Input must be int\n",
    "def hash_algorithmClassic(passwordInt):\n",
    "    \n",
    "    # gets password into \n",
    "    passwordBits = format(passwordInt, \"0\"+str(max_bits)+\"b\")       # Gives password in binary with length of max_bits\n",
    "    \n",
    "    print(\"Password int: \", passwordInt)\n",
    "    print(\"Password bits: \", passwordBits)\n",
    "\n",
    "    # creates random bits and adds them to START of passwordBits, depending on difference between max_bits and max_qubits\n",
    "    saltBits = format(random.getrandbits(max_qubits-max_bits), \"02b\")\n",
    "    passwordBits =  saltBits + passwordBits\n",
    "    \n",
    "    # divides string into array to perform iteration\n",
    "    arrayBits = [int(d) for d in str(passwordBits)]\n",
    "    \n",
    "    # iterate over array of bit values and swaps all bits in even position\n",
    "    for i in range(len(arrayBits)):\n",
    "        if i%2 == 0:\n",
    "            arrayBits[i] = int(arrayBits[i])^(1)    # BIT FLIP OPERATOR\n",
    "    \n",
    "    \n",
    "    # joins array\n",
    "    hashBits = ''.join(str(e) for e in arrayBits)\n",
    "    \n",
    "    print(\"Hash int: \", int(hashBits,2))\n",
    "    print(\"Hash bits: \", hashBits)"
   ]
  },
  {
   "cell_type": "code",
   "execution_count": null,
   "id": "c4a8f799",
   "metadata": {},
   "outputs": [],
   "source": [
    "# Algorithm will flip every qubit in an odd position (instead of even, done in the classical hash algorithm), starting at 1. E.g: 1000 will become 1101\n",
    "# For hash algorithm to work with this implementation of Grover's algorithm, it flips the even qubits if there's an odd amount of qubits, and flips the odd qubits if there's an even amount of qubits \n",
    "def hash_algorithmQuantum(n):\n",
    "    \n",
    "    # create a quantum circuit on n qubits\n",
    "    qc = QuantumCircuit(n)\n",
    "    \n",
    "    # apply hash algorithm\n",
    "    for i in range(n):\n",
    "        \n",
    "        # case where even number of qubits\n",
    "        if n%2 == 0:\n",
    "            if i%2 == 1:\n",
    "                qc.x(i)\n",
    "\n",
    "        # case where odd number of qubits\n",
    "        if n%2 == 1:\n",
    "            if i%2 == 0:\n",
    "                qc.x(i)\n",
    "    \n",
    "    return qc"
   ]
  },
  {
   "cell_type": "code",
   "execution_count": null,
   "id": "85c0e83a",
   "metadata": {},
   "outputs": [],
   "source": [
    "# ADAPTED FROM PUBLIC ALGORITHM\n",
    "def phase_oracle(n, indices_to_mark, name = 'Oracle'):\n",
    "    \n",
    "    # create a quantum circuit on n qubits\n",
    "    qc = QuantumCircuit(n, name=name)\n",
    "    \n",
    "    # apply the hash function to all values   # PERSONAL WORK\n",
    "    qc.append(hash_algorithmQuantum(n), range(n))\n",
    "\n",
    "    # create the identity matrix on n qubits\n",
    "    oracle_matrix = np.identity(2**n)\n",
    "    # add the -1 phase to marked elements\n",
    "    for index_to_mark in indices_to_mark:\n",
    "        oracle_matrix[index_to_mark, index_to_mark] = -1\n",
    "\n",
    "        \n",
    "    # convert your matrix (called oracle_matrix) into an operator, and add it to the quantum circuit\n",
    "    qc.unitary(Operator(oracle_matrix), range(n))\n",
    "    \n",
    "    return qc"
   ]
  },
  {
   "cell_type": "code",
   "execution_count": null,
   "id": "694c0a76",
   "metadata": {},
   "outputs": [],
   "source": [
    "# PUBLIC ALGORITHM\n",
    "def diffuser(n):\n",
    "    \n",
    "    # create a quantum circuit on n qubits\n",
    "    qc = QuantumCircuit(n, name='Diffuser')\n",
    "    \n",
    "    # apply hadamard gates to all qubits\n",
    "    qc.h(range(n))\n",
    "    # call the phase oracle applied to the zero state\n",
    "    qc.append(phase_oracle(n, [0]), range(n))\n",
    "    # apply hadamard gates to all qubits\n",
    "    qc.h(range(n))\n",
    "    \n",
    "    return qc"
   ]
  },
  {
   "cell_type": "code",
   "execution_count": null,
   "id": "5e34f811-acf6-4879-ba6f-f01429d47232",
   "metadata": {
    "tags": []
   },
   "outputs": [],
   "source": [
    "# ADAPTED PUBLIC ALGORITHM  \n",
    "# Grover's algorithm. Input must be the hash of the password in bits\n",
    "def Grover(n, indices_of_marked_elements):\n",
    "\n",
    "    # Makes sure hash is within boundaries\n",
    "    if(indices_of_marked_elements[0]>2**n):\n",
    "        print(\"ERROR: Hash is too large for the number of bits\")\n",
    "        return\n",
    "    \n",
    "    # Create a quantum circuit on n qubits\n",
    "    qc = QuantumCircuit(n, n)\n",
    "    \n",
    "    # Determine\n",
    "    r = int(np.floor(np.pi/4*np.sqrt(2**n/len(indices_of_marked_elements))))\n",
    "    print(f'{n} qubits, basis states {indices_of_marked_elements} marked, {r} rounds')\n",
    "    \n",
    "    # step 1: apply Hadamard gates on all qubits\n",
    "    qc.h(range(n))\n",
    "    \n",
    "    # step 2: apply r rounds of the phase oracle and the diffuser\n",
    "    for _ in range(r):\n",
    "        qc.append(phase_oracle(n, indices_of_marked_elements), range(n))\n",
    "        qc.append(diffuser(n), range(n))\n",
    "        \n",
    "    # step 3: measure all qubits\n",
    "    qc.measure(range(n), range(n))\n",
    "  \n",
    "    return qc\n"
   ]
  },
  {
   "cell_type": "code",
   "execution_count": null,
   "id": "66dcf44f",
   "metadata": {},
   "outputs": [],
   "source": [
    "# Sets up and runs the simulator to get counts, which is to be displayed as a histogram\n",
    "def simulateCountsCircuit(circuit):\n",
    "\n",
    "    simulator = Aer.get_backend('qasm_simulator')\n",
    "    counts = execute(circuit, backend=simulator, shots=500).result().get_counts(circuit)\n",
    "\n",
    "    # Removes counts that have less than 5 items (are reduntant and make a messy / hard to read graph)\n",
    "    counts = {k:v for k, v in counts.items() if v > 5}\n",
    "\n",
    "    # Swaps key values from binary to integer\n",
    "    # Iteration inspiration from https://stackoverflow.com/questions/45877614/how-to-change-all-the-dictionary-keys-in-a-for-loop-with-d-items \n",
    "    # kv = list(counts.items())\n",
    "    # counts.clear()\n",
    "\n",
    "    # for k, v in kv:\n",
    "        # new_key = int(k,2)  # Swaps key from binary to int\n",
    "        # counts[new_key] = v\n",
    "\n",
    "    return counts"
   ]
  },
  {
   "cell_type": "code",
   "execution_count": null,
   "id": "b50f4bab",
   "metadata": {},
   "outputs": [],
   "source": [
    "# Decodes counts by: finding the hash in counts, and fixing the password format (the hash and password should be the most common counts)\n",
    "def decodeCounts(counts, inputHash):\n",
    "\n",
    "    # Swaps key values from binary to integer\n",
    "    # Iteration inspiration from https://stackoverflow.com/questions/45877614/how-to-change-all-the-dictionary-keys-in-a-for-loop-with-d-items \n",
    "    kv = list(counts.items())\n",
    "    counts.clear()\n",
    "\n",
    "    for k, v in kv:\n",
    "        new_key = int(k,2)  # Swaps key from binary to int\n",
    "        counts[new_key] = v\n",
    "    \n",
    "    # Gets the max values of counts, which are the hash and password\n",
    "    maxValue = sorted(counts, key=lambda k: counts[k], reverse=True)[0]\n",
    "    secondMaxValue = sorted(counts, key=lambda k: counts[k], reverse=True)[1]\n",
    "\n",
    "    \n",
    "    # print(\"Max value: \", maxValue)\n",
    "    # print(\"Second max value: \", secondMaxValue)\n",
    "    # print(\"Hash: \", inputHash)\n",
    "\n",
    "    password = -1\n",
    "\n",
    "    # If the highest value is the hash, then the second highest value is the password\n",
    "    if(maxValue == inputHash):   \n",
    "        print(\"Grover's algorithm found hash!\")\n",
    "        password = secondMaxValue\n",
    "\n",
    "    elif(secondMaxValue == inputHash):\n",
    "        print(\"Grover's algorithm found hash!\")\n",
    "        password = maxValue\n",
    "\n",
    "    else:\n",
    "        print(\"Grover's algorithm did not work...\")\n",
    "        return\n",
    "\n",
    "\n",
    "    passwordBit = format(password, \"0\"+str(max_qubits)+\"b\")      # Gives password in binary with length of max_bits\n",
    "    passwordBitFixed = passwordBit[(max_qubits-max_bits):max_qubits]    # Removes the salt bits at the start\n",
    "    passwordFixed = int(passwordBitFixed,2)  # Converts the binary to int\n",
    "\n",
    "    print(\"GROVER'S ALGORITHM FOUND THIS PASSWORD: \", passwordFixed)\n"
   ]
  },
  {
   "cell_type": "code",
   "execution_count": null,
   "id": "413688d7",
   "metadata": {},
   "outputs": [],
   "source": [
    "# TIME TO RUN EVERYTHING! \n",
    "# First, define how long you want the password to be (max_bits), and use the function to hash a password\n",
    "# For max number of bits, highest possible password int is be 2^n, where n is max_bits. \n",
    "# E.g: 8 bits, password can be any integer from 0 to 256\n",
    "\n",
    "# GLOBAL VARIABLES\n",
    "max_bits = 8                    # Max number of bits in password\n",
    "amount_of_salt_bits = 2         # Amount of bits to add to hash for salting\n",
    "max_qubits = max_bits + amount_of_salt_bits       # WARNING, MORE THAN 10 QUBITS GETS EXPONENTIALLY SLOWER!!! RECOMMENDED TO KEEP AT OR BELOW 10.\n",
    "\n",
    "# Use this to hash a password! Password must be int!\n",
    "hash_algorithmClassic(25)      # This algorithm only prints to clearly separate classical algorithm and quantum algorithm. Put the hash in variable below!"
   ]
  },
  {
   "cell_type": "code",
   "execution_count": null,
   "id": "a4b2a4e5",
   "metadata": {},
   "outputs": [],
   "source": [
    "# This takes around a minute to run. Define the variables as you please and watch the magic occur!\n",
    "hash = 435                # The hash we want to unhash (INTEGER)\n",
    "\n",
    "# Implementation\n",
    "groverCircuit = Grover(max_qubits, [hash])      # This creates the Quantum Circuit corresponding to Grover's algorithm, including the Oracle with the hash\n",
    "counts = simulateCountsCircuit(groverCircuit)   # This simulates the circuit and gets the counts\n",
    "print(counts)\n",
    "decodeCounts(counts, hash)   # FINDS AND PRINTS SOLUTION! (removes salt bits from password found by algorithm)\n",
    "plot_histogram(counts)       # HISTOGRAM IS NOT SOLUTION. It will show HASH, and PASSWORD with the extra salt bits at start"
   ]
  },
  {
   "cell_type": "code",
   "execution_count": null,
   "id": "a9453ff4",
   "metadata": {},
   "outputs": [],
   "source": [
    "# Ruben Aguilo Schuurs\n",
    "# 22nd October 2023\n",
    "# University of Wisconsin Madison\n",
    "# LinkedIn: https://www.linkedin.com/in/ru-s"
   ]
  }
 ],
 "metadata": {
  "kernelspec": {
   "display_name": "Python 3 (ipykernel)",
   "language": "python",
   "name": "python3"
  },
  "language_info": {
   "codemirror_mode": {
    "name": "ipython",
    "version": 3
   },
   "file_extension": ".py",
   "mimetype": "text/x-python",
   "name": "python",
   "nbconvert_exporter": "python",
   "pygments_lexer": "ipython3",
   "version": "3.11.4"
  },
  "widgets": {
   "application/vnd.jupyter.widget-state+json": {
    "state": {},
    "version_major": 2,
    "version_minor": 0
   }
  }
 },
 "nbformat": 4,
 "nbformat_minor": 5
}
